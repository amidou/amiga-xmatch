{
 "cells": [
  {
   "cell_type": "code",
   "execution_count": 164,
   "metadata": {},
   "outputs": [],
   "source": [
    "import MySQLdb\n",
    "import pyvo\n",
    "import numpy as np\n",
    "import re\n",
    "from astropy.table import QTable, hstack\n",
    "from astropy.coordinates import Angle, SkyCoord\n",
    "from astropy import units as u\n",
    "from astropy.io import ascii\n",
    "import os.path\n",
    "import requests\n",
    "from bs4 import BeautifulSoup\n",
    "import pandas as pd\n",
    "from astroquery.ned import Ned"
   ]
  },
  {
   "cell_type": "markdown",
   "metadata": {},
   "source": [
    "#### AMIGA database keys (contact an admin for a login)"
   ]
  },
  {
   "cell_type": "code",
   "execution_count": 2,
   "metadata": {},
   "outputs": [],
   "source": [
    "host = xxx\n",
    "user = xxx\n",
    "passwd = xxx"
   ]
  },
  {
   "cell_type": "markdown",
   "metadata": {},
   "source": [
    "### Utility functions"
   ]
  },
  {
   "cell_type": "code",
   "execution_count": 204,
   "metadata": {},
   "outputs": [],
   "source": [
    "def retrieve_amiga(user, passwd, wholeamiga=False):\n",
    "    '''\n",
    "    Function to retrieve the AMIGA sample from the database.\n",
    "    Use the wholeamiga key to retrieve either the full CIG sample of 1051 galaxies (=True),\n",
    "    or the final sample of Verley+07 (=False)\n",
    "    '''\n",
    "    db = MySQLdb.connect(db='CIG_RELEASE_2012', host=host, user=user, passwd=passwd)\n",
    "\n",
    "    query_sub = \"SELECT c.cig, c.ASC_D_J2000, c.DEC_D_J2000, r.BTC, v.VELOC_HC, i.Q, i.nK \\\n",
    "    FROM CIG_RELEASE_2012.COORDINATES c \\\n",
    "    LEFT JOIN CIG_RELEASE_2012.RESULTS_OPT r \\\n",
    "    ON r.cig = c.cig \\\n",
    "    LEFT JOIN CIG_RELEASE_2012.VELOCITIES v \\\n",
    "    ON v.cig = c.cig \\\n",
    "    LEFT JOIN PAPERS_ISOLATION_VERLEY07a.TABLE4 i \\\n",
    "    ON i.cig = c.cig \\\n",
    "    WHERE r.BTC <= 15.3 AND r.BTC  > 11 AND v.VELOC_HC >= 1500 \\\n",
    "    AND ((i.Q < -2 AND i.nK < 2.4 AND i.Q IS NOT NULL) OR (i.nK IS NULL AND i.Q < -2)) \\\n",
    "    AND (r.BTC > 11 and r.BTC < 15.3)\\\n",
    "    ORDER BY c.cig\"\n",
    "    cols = ('CIG', 'RA', 'DEC', 'Bmag', 'VEL', 'Q', 'nK')\n",
    "\n",
    "    query_whole = \"SELECT c.cig, c.ASC_D_J2000, c.DEC_D_J2000, r.BTC, v.VELOC_HC, i.Q, i.nK \\\n",
    "    FROM CIG_RELEASE_2012.COORDINATES c \\\n",
    "    LEFT JOIN CIG_RELEASE_2012.RESULTS_OPT r \\\n",
    "    ON r.cig = c.cig \\\n",
    "    LEFT JOIN CIG_RELEASE_2012.VELOCITIES v \\\n",
    "    ON v.cig = c.cig \\\n",
    "    LEFT JOIN PAPERS_ISOLATION_VERLEY07a.TABLE4 i \\\n",
    "    ON i.cig = c.cig \\\n",
    "    ORDER BY c.cig\"\n",
    "    cols = ('CIG', 'RA', 'DEC', 'Bmag', 'VEL', 'Q', 'nK')\n",
    "    \n",
    "    if wholeamiga == True:\n",
    "        query = query_whole\n",
    "    else:\n",
    "        query = query_sub\n",
    "        \n",
    "    cursor = db.cursor()\n",
    "    cursor.execute(query)\n",
    "    cursor.scroll(0, 'absolute')\n",
    "    nrows = cursor.rowcount\n",
    "    ncols = len(cursor.fetchone())\n",
    "    data = np.zeros([nrows,ncols])\n",
    "    cursor.scroll(0, 'absolute')\n",
    "    for i in range(nrows):\n",
    "        row = cursor.fetchone()\n",
    "        for j in range(ncols):\n",
    "            try:\n",
    "                data[i,j] = float(row[j])\n",
    "            except TypeError:\n",
    "                data[i,j] = row[j]\n",
    "    table = QTable(data, names=cols)\n",
    "    table['CIG'].info.format = '%d'\n",
    "    return table\n",
    "\n",
    "############################################\n",
    "\n",
    "def isinVerley(cigno):\n",
    "    '''Function to check if a CIG is included in the final AMIGA sample of Verley+07'''\n",
    "    amg_tab = retrieve_amiga(user, passwd, wholeamiga=False)\n",
    "    row = None\n",
    "    for i in range(len(amg_tab['CIG'])):\n",
    "        if cigno == amg_tab['CIG'][i]:\n",
    "            row = amg_tab[i]\n",
    "    if row:\n",
    "        print('CIG %d: B = %.2f mag & V = %.1f km/s -- RA, Dec = %.6f, %.6f' %(row[0],row[3],row[4], row[1], row[2]))\n",
    " \n",
    "    else:\n",
    "        print('CIG %d is not in the Verley+07 sample' %cigno)\n",
    "\n",
    "############################################\n",
    "\n",
    "def searchamiga(name=None, coords=None, radius=1.0, wholeamiga=True):\n",
    "    '''\n",
    "    Function to search in AMIGA for an individual galaxy.\n",
    "    - galname: NED name of galaxy\n",
    "    - radius: search radius in arcmin\n",
    "    '''\n",
    "    if name:\n",
    "        galquery = Ned.query_object(name)\n",
    "        galra, galdec = galquery['RA'][0], galquery['DEC'][0]\n",
    "        coords_obj = SkyCoord(galra*u.deg, galdec*u.deg, frame='icrs')\n",
    "    elif coords:\n",
    "        try:\n",
    "            galra = np.float(re.split(',|;| ', coords)[0])\n",
    "            galdec = np.float(re.split(',|;| ', coords)[-1])\n",
    "            coords_obj = SkyCoord(galra*u.deg, galdec*u.deg, frame='icrs')\n",
    "        except:\n",
    "            coords = coords.replace(',','')\n",
    "            coords = coords.replace(';','')\n",
    "            coords_obj = SkyCoord(coords, unit=(u.hourangle, u.deg))\n",
    "    radius = float(radius)*u.arcmin\n",
    "    amg_tab = retrieve_amiga(user, passwd, wholeamiga)\n",
    "    ra_a, dec_a = amg_tab['RA'], amg_tab['DEC']\n",
    "    coords_amg = SkyCoord(ra=ra_a*u.degree, dec=dec_a*u.degree, frame='icrs')\n",
    "    idx, d2d, d3d = coords_obj.match_to_catalog_sky(coords_amg)\n",
    "    sep = d2d < radius\n",
    "    if sep:\n",
    "        print('Matching AMIGA object: CIG %d with %.3f arcsec' %(amg_tab[idx]['CIG'],d2d.arcsec))\n",
    "    else:\n",
    "        print(\"There's no match in AMIGA within \", radius)\n",
    "        \n",
    "############################################\n",
    "\n",
    "def retrieve_viz(url, table, cols):\n",
    "    '''Function to retrieve Vizier table at specific url and columns.'''\n",
    "    tap = pyvo.dal.TAPService(url) \n",
    "    hardlim = tap.hardlimit\n",
    "    result = tap.search('SELECT %s FROM \"%s\"' %(cols, table), maxrec=int(0.1*hardlim))\n",
    "    return result.to_table()\n",
    "\n",
    "############################################\n",
    "\n",
    "def xmatch_amiga_viz(radius_arcmin, wholeamiga=True):\n",
    "    '''\n",
    "    Cross-match between the AMIGA sample and the Vizier table of CALIFA sample.\n",
    "    radius_arcmin: search radius in arcmin\n",
    "    '''\n",
    "    \n",
    "    ### Retrieving the AMIGA sample\n",
    "    amg_tab = retrieve_amiga(user, passwd, wholeamiga)\n",
    "\n",
    "    ### Retrieving the Vizier table\n",
    "    viz_url = \"http://TAPVizieR.u-strasbg.fr/TAPVizieR/tap\"\n",
    "    viz_table = 'J/A+A/632/A59/tableb1'\n",
    "    viz_cols = 'ID AS CALIFA_ID, _RA, _DE, SimbadName AS Name, SFR, rMAG, lRe, l2Re'\n",
    "    viz_tab = retrieve_viz(viz_url, viz_table, viz_cols)\n",
    "\n",
    "    ### Matching AMIGA and Vizier tables\n",
    "    ra_a, dec_a = amg_tab['RA'], amg_tab['DEC']\n",
    "    ra_v, dec_v = viz_tab['_RA'], viz_tab['_DE']\n",
    "    coords_amg = SkyCoord(ra=ra_a*u.degree, dec=dec_a*u.degree, frame='icrs')\n",
    "    coords_viz = SkyCoord(ra=ra_v, dec=dec_v, frame='icrs')\n",
    "    idx_amg, idx_viz, d2d, d3d = coords_viz.search_around_sky(coords_amg, float(radius_arcmin)*u.arcmin)\n",
    "\n",
    "    match_amg, match_viz = amg_tab[idx_amg], viz_tab[idx_viz]\n",
    "\n",
    "    match_tab = hstack([match_amg, match_viz])\n",
    "    match_tab.add_column(d2d, name='separation')\n",
    "    match_tab['separation'].info.format = '5.3e'\n",
    "    \n",
    "    print('---%d matches were found' %len(match_amg))\n",
    "    outfile='amiga-califa-lre-%sarcmin.csv' %radius_arcmin\n",
    "    ascii.write(match_tab, outfile, format='csv', overwrite=True)\n",
    "    if os.path.isfile(outfile):\n",
    "        print('---output file saved as %s' %outfile)\n",
    "    else:\n",
    "        print('---the file could not be saved')\n",
    "\n",
    "############################################\n",
    "\n",
    "def xmatch_sample(sample, radius_arcmin=1, wholeamiga=True, ascii_table=None, id_c='Name', ra_c='RA', dec_c='DEC', refcode=None, output=None):\n",
    "    '''\n",
    "    Cross-match between the AMIGA sample and various HI samples.\n",
    "    Optional:\n",
    "    - radius_arcmin: cross-match radius in arcmin, default = 20arcmin\n",
    "    - output: name of output file where to save results of cross-match. Default = do not save\n",
    "    * If local table (has to be an ascii file):\n",
    "    - sample = user\n",
    "    - ascii_table: name of local table. Must be ASCII table, and have at least 3 columns: ID, RA and Dec.\n",
    "    - id_c: column name for object name; default = 'Name' -- CANNOT be 'CIG'!\n",
    "    - ra_c: column name for RA; default = 'RA'\n",
    "    - dec_c: column name for Dec; default = 'DEC'\n",
    "    * If table on NED:\n",
    "    - sample = 'NED' or 'ned' (case insensitive)\n",
    "    - refcode: reference code for table, e.g: 2017MNRAS.469.2387P\n",
    "    * If table on SIMBAD:\n",
    "    - sample = 'SIMBAD' or 'simbad' (case insensitive)\n",
    "    - refcode: reference code for table, e.g: 2017MNRAS.469.2387P\n",
    "    '''\n",
    "            \n",
    "    amg_tab = retrieve_amiga(user, passwd, wholeamiga)\n",
    "    ra_a, dec_a = amg_tab['RA'], amg_tab['DEC']\n",
    "    coords_amg = SkyCoord(ra=ra_a*u.degree, dec=dec_a*u.degree, frame='icrs')\n",
    "    \n",
    "    ### SPARC sample from Lelli+ 2016 (Table c), locally available and downloaded from http://astroweb.cwru.edu/SPARC/SPARC_Lelli2016c.mrt\n",
    "    if sample == 'SPARC':\n",
    "        f = open('SPARC_Lelli2016c.mrt', 'r')\n",
    "        lines = f.readlines()\n",
    "        f.close()\n",
    "        keys = []\n",
    "        for line in lines[9:28]:\n",
    "            keys.append(line[28:38].strip())\n",
    "        tb = pd.read_csv('SPARC_Lelli2016c.mrt', engine='python', skiprows=98, names=keys, sep='\\s{1,}')\n",
    "        no_id, wra, wdec = [], [], []\n",
    "        for i, gal in enumerate(tb['Galaxy']):\n",
    "            try:\n",
    "                w = Ned.query_object(gal)\n",
    "                wra.append(w['RA'][0])\n",
    "                wdec.append(w['DEC'][0])\n",
    "            except:\n",
    "                no_id.append(i)\n",
    "                continue\n",
    "        ra_s, dec_s = np.array(wra), np.array(wdec)\n",
    "        tb = tb.drop(no_id)\n",
    "        tab_s = QTable.from_pandas(tb)\n",
    "        idcolumn = 'Galaxy'\n",
    "        \n",
    "    ### Ponomareva+ 2017 (https://ui.adsabs.harvard.edu/abs/2017MNRAS.469.2387P/abstract) sample from NED\n",
    "    elif sample == 'Ponomareva':\n",
    "        tab_s = Ned.query_refcode('2017MNRAS.469.2387P')\n",
    "        ra_s = np.array(tab_s['RA'])\n",
    "        dec_s = np.array(tab_s['DEC'])\n",
    "        idcolumn = 'Object Name'\n",
    "\n",
    "    ### The WHISP sample, locally available and compiled from http://www.astro.rug.nl/~whisp\n",
    "    elif sample == 'WHISP':\n",
    "        f = open('whisp_catalogue.txt', 'r')\n",
    "        lines = f.readlines()\n",
    "        objlist = []\n",
    "        for line in lines:\n",
    "            if line.strip().startswith('UGC'):\n",
    "                ugcno = line.split()[1]\n",
    "                try:\n",
    "                    ugcno = int(ugcno[:5])\n",
    "                except ValueError:\n",
    "                    ugcno = int(ugcno[:4])\n",
    "                objlist.append(line.split()[0] + ' ' + str(ugcno))\n",
    "        wra, wdec = [], []\n",
    "        for gal in objlist:\n",
    "            w = Ned.query_object(gal)\n",
    "            wra.append(w['RA'][0])\n",
    "            wdec.append(w['DEC'][0])\n",
    "        ra_s, dec_s = np.array(wra), np.array(wdec)\n",
    "        tb = pd.DataFrame(np.array([objlist, wra, wdec]).T, columns=['Galaxy', 'RA', 'DEC'])\n",
    "        tab_s = QTable.from_pandas(tb)\n",
    "        idcolumn = 'Galaxy'\n",
    "        \n",
    "    ### The THINGS sample from NED\n",
    "    elif sample == 'THINGS':\n",
    "        tab_s = Ned.query_refcode('2008AJ....136.2648D')\n",
    "        ra_s = np.array(tab_s['RA'])\n",
    "        dec_s = np.array(tab_s['DEC'])\n",
    "        idcolumn = 'Object Name'\n",
    "\n",
    "    ### The HALOGAS sample from NED\n",
    "    elif sample == 'HALOGAS':\n",
    "        tab_s = Ned.query_refcode('2011A&A...526A.118H')\n",
    "        ra_s = np.array(tab_s['RA'])\n",
    "        dec_s = np.array(tab_s['DEC'])\n",
    "        idcolumn = 'Object Name'\n",
    "\n",
    "    elif sample.lower() == 'user':\n",
    "        tab_s = ascii.read(ascii_table)\n",
    "        ra_s = np.array(tab_s[ra_c])\n",
    "        dec_s = np.array(tab_s[dec_c])\n",
    "        idcolumn = id_c\n",
    "    \n",
    "    elif sample.lower() == 'ned':\n",
    "        tab_s = Ned.query_refcode(refcode)\n",
    "        ra_s = np.array(tab_s['RA'])\n",
    "        dec_s = np.array(tab_s['DEC'])\n",
    "        idcolumn = 'Object Name'\n",
    "\n",
    "    elif sample.lower() == 'simbad':\n",
    "        tab_s = Simbad.query_bibobj(refcode)\n",
    "        idcolumn = 'MAIN_ID'\n",
    "        sb = np.char.add(np.char.add(tab_s['RA'], ' '), tab_s['DEC'])\n",
    "        sb_c = SkyCoord(c0, unit=(u.hourangle, u.deg))\n",
    "        ra_s, dec_s = sb_c.ra.degree, sb_c.dec.degree\n",
    "        \n",
    "    coords_s = SkyCoord(ra=ra_s*u.degree, dec=dec_s*u.degree, frame='icrs')\n",
    "    idx_amg, idx_s, d2d, d3d = coords_s.search_around_sky(coords_amg, float(radius_arcmin)*u.arcmin)\n",
    "\n",
    "    match_amg, match_s = amg_tab[idx_amg], tab_s[idx_s]\n",
    "    match_amg.add_column([Ned.query_object('CIG %d' %x)['Object Name'][0] for x in match_amg['CIG']], name='XName', index=1)\n",
    "\n",
    "    match_tab = hstack([match_amg, match_s[idcolumn]])\n",
    "    match_tab.add_column(d2d, name='separation')\n",
    "    match_tab['separation'].info.format = '5.3e'\n",
    "\n",
    "    if not isinstance(output, type(None)):\n",
    "        fout = open(output, 'w')\n",
    "        if sample == 'WHISP':\n",
    "            fout.write('CIG-ID'+3*' '+'UGC-ID'+3*' '+'NED-ID'+12*' '+'VEL'+7*' '+'Qkar'+6*' '+'nk\\n')\n",
    "            for cig, gal, sname, vel, qkar, nk in zip(match_tab['CIG'], match_tab['XName'], match_tab[idcolumn], match_tab['VEL'], match_tab['Q'], match_tab['nK']):\n",
    "                fout.write('%-8d%-10s%-18s%-10s%-10s%-10s\\n' %(cig,sname[3:],gal,vel,qkar,nk))\n",
    "        else:\n",
    "            fout.write('CIG-ID'+2*' '+'NED-ID'+12*' '+'VEL'+7*' '+'Qkar'+6*' '+'nk\\n')\n",
    "            for cig, gal, vel, qkar, nk in zip(match_tab['CIG'], match_tab['XName'], match_tab['VEL'], match_tab['Q'], match_tab['nK']):\n",
    "                fout.write('%-8d%-18s%-10s%-10s%-10s\\n' %(cig,gal,vel,qkar,nk))\n",
    "        fout.close()\n",
    "        print('--- Number of matches: %d\\n--- Output saved to %s' %(len(match_amg),output))\n",
    "\n",
    "    else:\n",
    "        print('--- Number of matches: ', len(match_amg))\n",
    "        print('---------------------------')\n",
    "        if sample == 'WHISP':\n",
    "            print('CIG-ID'+3*' '+'UGC-ID'+3*' '+'NED-ID'+12*' '+'VEL'+7*' '+'Qkar'+6*' '+'nk')\n",
    "            for cig, gal, sname, vel, qkar, nk in zip(match_tab['CIG'], match_tab['XName'], match_tab[idcolumn], match_tab['VEL'], match_tab['Q'], match_tab['nK']):\n",
    "                print('%-8d%-10s%-18s%-10s%-10s%-10s' %(cig,sname[3:],gal,vel,qkar,nk))\n",
    "        else:\n",
    "            print('CIG-ID'+2*' '+'NED-ID'+12*' '+'VEL'+7*' '+'Qkar'+6*' '+'nk')\n",
    "            for cig, gal, vel, qkar, nk in zip(match_tab['CIG'], match_tab['XName'], match_tab['VEL'], match_tab['Q'], match_tab['nK']):\n",
    "                print('%-8d%-18s%-10s%-10s%-10s' %(cig,gal,vel,qkar,nk))"
   ]
  },
  {
   "cell_type": "markdown",
   "metadata": {},
   "source": [
    "## Cross-matching with catalogues"
   ]
  },
  {
   "cell_type": "markdown",
   "metadata": {},
   "source": [
    "#### Example 1: x-macth with a user-defined, local table in a 2 arcmin radius\n",
    "##### Accepts ASCII tables: CSV, txt, etc. Must have at least 3 columns: ID, RA & Dec"
   ]
  },
  {
   "cell_type": "code",
   "execution_count": 207,
   "metadata": {},
   "outputs": [
    {
     "name": "stdout",
     "output_type": "stream",
     "text": [
      "--- Number of matches:  17\n",
      "---------------------------\n",
      "CIG-ID  NED-ID            VEL       Qkar      nk\n",
      "1       UGC 00005         7299.0    -1.704    1.814     \n",
      "33      NGC 0237          4175.0    -1.758    1.634     \n",
      "81      NGC 0781          3483.0    -2.698    1.457     \n",
      "128     NGC 1349          6596.0    -3.609    0.587     \n",
      "145     NGC 1542          3714.0    -3.253    0.736     \n",
      "196     UGC 03899         3884.0    -0.901    1.044     \n",
      "199     UGC 03944         3895.0    -2.528    1.703     \n",
      "293     UGC 04722         1794.0    -3.156    1.244     \n",
      "340     IC 2487           4339.0    -2.205    nan       \n",
      "575     NGC 5016          2612.0    -2.802    1.322     \n",
      "631     NGC 5633          2334.0    -1.433    2.156     \n",
      "805     IC 1256           4730.0    -2.79     1.695     \n",
      "828     UGC 10972         4652.0    -2.503    nan       \n",
      "897     NGC 7025          4968.0    -2.667    1.0       \n",
      "1020    NGC 7683          3726.0    -0.589    1.627     \n",
      "1047    UGC 12857         2459.0    -1.213    1.261     \n",
      "1048    UGC 12864         4682.0    -2.672    1.552     \n"
     ]
    }
   ],
   "source": [
    "xmatch_sample('user', 2, ascii_table='table.csv', id_c='Name', ra_c='RA', dec_c='DEC')"
   ]
  },
  {
   "cell_type": "markdown",
   "metadata": {},
   "source": [
    "#### Example 2: x-match with a NED table (Jarrett+ 2019) in a 1 arcmin radius and saving output to file"
   ]
  },
  {
   "cell_type": "code",
   "execution_count": 208,
   "metadata": {},
   "outputs": [
    {
     "name": "stdout",
     "output_type": "stream",
     "text": [
      "--- Number of matches:  8\n",
      "---------------------------\n",
      "CIG-ID  NED-ID            VEL       Qkar      nk\n",
      "197     NGC 2403          131.0     nan       nan       \n",
      "324     NGC 2841          638.0     nan       nan       \n",
      "347     NGC 2903          556.0     nan       nan       \n",
      "388     Sextans B         301.0     nan       nan       \n",
      "461     NGC 3521          805.0     nan       nan       \n",
      "523     NGC 4236          -5.0      nan       nan       \n",
      "559     MESSIER 064       408.0     nan       nan       \n",
      "610     MESSIER 101       241.0     nan       nan       \n"
     ]
    }
   ],
   "source": [
    "xmatch_sample('ned', 1.0, refcode='2019ApJS..245...25J')"
   ]
  },
  {
   "cell_type": "markdown",
   "metadata": {},
   "source": [
    "#### Example 3: x-match with the WHISP sample within 3 arcmin and saving output to file"
   ]
  },
  {
   "cell_type": "code",
   "execution_count": 209,
   "metadata": {},
   "outputs": [
    {
     "name": "stdout",
     "output_type": "stream",
     "text": [
      "--- Number of matches: 36\n",
      "--- Output saved to output.txt\n"
     ]
    }
   ],
   "source": [
    "xmatch_sample('WHISP', 3.0, output='output.txt')"
   ]
  },
  {
   "cell_type": "markdown",
   "metadata": {},
   "source": [
    "## Searching for single objects in AMIGA"
   ]
  },
  {
   "cell_type": "markdown",
   "metadata": {},
   "source": [
    "#### Example 1: based on NED name, within 1 arcmin"
   ]
  },
  {
   "cell_type": "code",
   "execution_count": 210,
   "metadata": {},
   "outputs": [
    {
     "name": "stdout",
     "output_type": "stream",
     "text": [
      "Matching AMIGA object: CIG 502 with 1.437 arcsec\n"
     ]
    }
   ],
   "source": [
    "searchamiga(name='UGC 6780', )"
   ]
  },
  {
   "cell_type": "markdown",
   "metadata": {},
   "source": [
    "#### Example 2: based on coordinates, within 1.5 arcmin"
   ]
  },
  {
   "cell_type": "code",
   "execution_count": 211,
   "metadata": {},
   "outputs": [
    {
     "name": "stdout",
     "output_type": "stream",
     "text": [
      "Matching AMIGA object: CIG 33 with 3.025 arcsec\n",
      "Matching AMIGA object: CIG 33 with 3.021 arcsec\n"
     ]
    }
   ],
   "source": [
    "### coordinates in degrees:\n",
    "searchamiga(coords='10.866007, -0.124929', radius=1.5)\n",
    "\n",
    "### coordinates in HMS, DMS:\n",
    "searchamiga(coords='00h43m27.842s, -00d07m29.74s', radius=1.5)"
   ]
  },
  {
   "cell_type": "code",
   "execution_count": null,
   "metadata": {},
   "outputs": [],
   "source": []
  }
 ],
 "metadata": {
  "kernelspec": {
   "display_name": "Python 3",
   "language": "python",
   "name": "python3"
  },
  "language_info": {
   "codemirror_mode": {
    "name": "ipython",
    "version": 3
   },
   "file_extension": ".py",
   "mimetype": "text/x-python",
   "name": "python",
   "nbconvert_exporter": "python",
   "pygments_lexer": "ipython3",
   "version": "3.9.1"
  }
 },
 "nbformat": 4,
 "nbformat_minor": 4
}
